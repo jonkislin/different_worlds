{
 "cells": [
  {
   "cell_type": "markdown",
   "metadata": {},
   "source": [
    "# Project Fletcher - NLP Data Exploration"
   ]
  },
  {
   "cell_type": "code",
   "execution_count": 1,
   "metadata": {
    "ExecuteTime": {
     "end_time": "2018-02-27T20:05:07.741268Z",
     "start_time": "2018-02-27T20:05:07.091562Z"
    }
   },
   "outputs": [],
   "source": [
    "#General imports\n",
    "import pandas as pd \n",
    "import numpy as np\n",
    "import re, pickle, time\n",
    "import matplotlib.pyplot as plt\n",
    "\n",
    "% matplotlib inline\n",
    "\n",
    "plt.style.use('seaborn-white')"
   ]
  },
  {
   "cell_type": "code",
   "execution_count": null,
   "metadata": {
    "code_folding": [
     0
    ]
   },
   "outputs": [],
   "source": [
    "## Crazy idea: build web-app that will analyze any text thrown into it!\n",
    "\n",
    "## TO DO: Add vader sentiment\n",
    "# def print_random_transcript(name, start=0, end=-1):\n",
    "#     '''\n",
    "#     Function to debug data exploration with transcript data.\n",
    "#     ----------\n",
    "#     Args:\n",
    "    \n",
    "#     name = name of dataframe (transcript series must be of format name['Content'],\n",
    "#     where name is a pandas dataframe and series values are strings) ***\n",
    "    \n",
    "#     start = where to start slicing the string. Default is 0 \n",
    "    \n",
    "#     end = where to stop slicing the string. Default is -1\n",
    "#     '''\n",
    "#     import numpy as np\n",
    "    \n",
    "    \n",
    "#     rand_num = np.random.randint\n",
    "#     slice_ = rand_num(0,(len(name))+1)\n",
    "#     print(name.Date[slice_],\n",
    "#           f\"\\nLENGTH OF TRANSCRIPT: {len(name.Content[slice_][start : end])}\\n\",\n",
    "#           \"-\"*75, '\\n',\n",
    "#           name.Content[slice_][start : end])"
   ]
  },
  {
   "cell_type": "markdown",
   "metadata": {},
   "source": [
    "## Data Cleaning"
   ]
  },
  {
   "cell_type": "markdown",
   "metadata": {},
   "source": [
    "### Sean Hannity"
   ]
  },
  {
   "cell_type": "code",
   "execution_count": 3,
   "metadata": {
    "ExecuteTime": {
     "end_time": "2018-02-27T20:05:30.192198Z",
     "start_time": "2018-02-27T20:05:30.160105Z"
    }
   },
   "outputs": [],
   "source": [
    "hannity = pickle.load(open('pickles/raw_data/df_Hannity.pickle','rb'))"
   ]
  },
  {
   "cell_type": "code",
   "execution_count": 4,
   "metadata": {
    "ExecuteTime": {
     "end_time": "2018-02-27T20:05:30.838102Z",
     "start_time": "2018-02-27T20:05:30.708610Z"
    }
   },
   "outputs": [
    {
     "data": {
      "text/html": [
       "<div>\n",
       "<style scoped>\n",
       "    .dataframe tbody tr th:only-of-type {\n",
       "        vertical-align: middle;\n",
       "    }\n",
       "\n",
       "    .dataframe tbody tr th {\n",
       "        vertical-align: top;\n",
       "    }\n",
       "\n",
       "    .dataframe thead th {\n",
       "        text-align: right;\n",
       "    }\n",
       "</style>\n",
       "<table border=\"1\" class=\"dataframe\">\n",
       "  <thead>\n",
       "    <tr style=\"text-align: right;\">\n",
       "      <th></th>\n",
       "      <th>Title</th>\n",
       "      <th>Date</th>\n",
       "      <th>Content</th>\n",
       "      <th>URL</th>\n",
       "      <th>Show</th>\n",
       "      <th>Network</th>\n",
       "    </tr>\n",
       "  </thead>\n",
       "  <tbody>\n",
       "    <tr>\n",
       "      <th>0</th>\n",
       "      <td>DOJ to probe potential Obama-era surveillance ...</td>\n",
       "      <td>2018-02-19</td>\n",
       "      <td>SEAN HANNITY, FOX NEWS HOST: Hey, Tucker. Grea...</td>\n",
       "      <td>http://www.foxnews.com/transcript/2018/02/19/d...</td>\n",
       "      <td>Hannity</td>\n",
       "      <td>Fox News</td>\n",
       "    </tr>\n",
       "    <tr>\n",
       "      <th>1</th>\n",
       "      <td>Hannity: Examining key points from Russian ind...</td>\n",
       "      <td>2018-02-16</td>\n",
       "      <td>SEAN HANNITY, HOST: This is a Fox News alert. ...</td>\n",
       "      <td>http://www.foxnews.com/transcript/2018/02/16/h...</td>\n",
       "      <td>Hannity</td>\n",
       "      <td>Fox News</td>\n",
       "    </tr>\n",
       "    <tr>\n",
       "      <th>2</th>\n",
       "      <td>Judge Jeanine: Our kids deserve our protection</td>\n",
       "      <td>2018-02-15</td>\n",
       "      <td>SEAN HANNITY: And welcome to HANNITY. And this...</td>\n",
       "      <td>http://www.foxnews.com/transcript/2018/02/15/j...</td>\n",
       "      <td>Hannity</td>\n",
       "      <td>Fox News</td>\n",
       "    </tr>\n",
       "    <tr>\n",
       "      <th>3</th>\n",
       "      <td>Students describe Florida high school shooting...</td>\n",
       "      <td>2018-02-14</td>\n",
       "      <td>SEAN HANNITY, FOX NEWS HOST: Welcome to HANNIT...</td>\n",
       "      <td>http://www.foxnews.com/transcript/2018/02/14/s...</td>\n",
       "      <td>Hannity</td>\n",
       "      <td>Fox News</td>\n",
       "    </tr>\n",
       "    <tr>\n",
       "      <th>4</th>\n",
       "      <td>Newt Gingrich on Obama officials under fire</td>\n",
       "      <td>2018-02-13</td>\n",
       "      <td>Welcome to HANNITY.\\nWe have a ton of new brea...</td>\n",
       "      <td>http://www.foxnews.com/transcript/2018/02/13/n...</td>\n",
       "      <td>Hannity</td>\n",
       "      <td>Fox News</td>\n",
       "    </tr>\n",
       "  </tbody>\n",
       "</table>\n",
       "</div>"
      ],
      "text/plain": [
       "                                               Title       Date  \\\n",
       "0  DOJ to probe potential Obama-era surveillance ... 2018-02-19   \n",
       "1  Hannity: Examining key points from Russian ind... 2018-02-16   \n",
       "2     Judge Jeanine: Our kids deserve our protection 2018-02-15   \n",
       "3  Students describe Florida high school shooting... 2018-02-14   \n",
       "4        Newt Gingrich on Obama officials under fire 2018-02-13   \n",
       "\n",
       "                                             Content  \\\n",
       "0  SEAN HANNITY, FOX NEWS HOST: Hey, Tucker. Grea...   \n",
       "1  SEAN HANNITY, HOST: This is a Fox News alert. ...   \n",
       "2  SEAN HANNITY: And welcome to HANNITY. And this...   \n",
       "3  SEAN HANNITY, FOX NEWS HOST: Welcome to HANNIT...   \n",
       "4  Welcome to HANNITY.\\nWe have a ton of new brea...   \n",
       "\n",
       "                                                 URL     Show   Network  \n",
       "0  http://www.foxnews.com/transcript/2018/02/19/d...  Hannity  Fox News  \n",
       "1  http://www.foxnews.com/transcript/2018/02/16/h...  Hannity  Fox News  \n",
       "2  http://www.foxnews.com/transcript/2018/02/15/j...  Hannity  Fox News  \n",
       "3  http://www.foxnews.com/transcript/2018/02/14/s...  Hannity  Fox News  \n",
       "4  http://www.foxnews.com/transcript/2018/02/13/n...  Hannity  Fox News  "
      ]
     },
     "execution_count": 4,
     "metadata": {},
     "output_type": "execute_result"
    }
   ],
   "source": [
    "hannity.Date = pd.to_datetime(hannity.Date)\n",
    "hannity = hannity.sort_values('Date', ascending = False)\n",
    "hannity[\"Content\"] = hannity[\"Content\"].str.replace(r'^(ADVERTISEMENT\\n)','')\n",
    "hannity['Network'] = 'Fox News'\n",
    "\n",
    "hannity.head()"
   ]
  },
  {
   "cell_type": "code",
   "execution_count": 5,
   "metadata": {
    "ExecuteTime": {
     "end_time": "2018-02-27T20:05:34.064908Z",
     "start_time": "2018-02-27T20:05:34.050123Z"
    }
   },
   "outputs": [
    {
     "data": {
      "text/html": [
       "<div>\n",
       "<style scoped>\n",
       "    .dataframe tbody tr th:only-of-type {\n",
       "        vertical-align: middle;\n",
       "    }\n",
       "\n",
       "    .dataframe tbody tr th {\n",
       "        vertical-align: top;\n",
       "    }\n",
       "\n",
       "    .dataframe thead th {\n",
       "        text-align: right;\n",
       "    }\n",
       "</style>\n",
       "<table border=\"1\" class=\"dataframe\">\n",
       "  <thead>\n",
       "    <tr style=\"text-align: right;\">\n",
       "      <th></th>\n",
       "      <th>Date</th>\n",
       "      <th>Show</th>\n",
       "      <th>Content</th>\n",
       "      <th>Network</th>\n",
       "    </tr>\n",
       "  </thead>\n",
       "  <tbody>\n",
       "    <tr>\n",
       "      <th>0</th>\n",
       "      <td>2018-02-19</td>\n",
       "      <td>Hannity</td>\n",
       "      <td>SEAN HANNITY, FOX NEWS HOST: Hey, Tucker. Grea...</td>\n",
       "      <td>Fox News</td>\n",
       "    </tr>\n",
       "    <tr>\n",
       "      <th>1</th>\n",
       "      <td>2018-02-16</td>\n",
       "      <td>Hannity</td>\n",
       "      <td>SEAN HANNITY, HOST: This is a Fox News alert. ...</td>\n",
       "      <td>Fox News</td>\n",
       "    </tr>\n",
       "    <tr>\n",
       "      <th>2</th>\n",
       "      <td>2018-02-15</td>\n",
       "      <td>Hannity</td>\n",
       "      <td>SEAN HANNITY: And welcome to HANNITY. And this...</td>\n",
       "      <td>Fox News</td>\n",
       "    </tr>\n",
       "    <tr>\n",
       "      <th>3</th>\n",
       "      <td>2018-02-14</td>\n",
       "      <td>Hannity</td>\n",
       "      <td>SEAN HANNITY, FOX NEWS HOST: Welcome to HANNIT...</td>\n",
       "      <td>Fox News</td>\n",
       "    </tr>\n",
       "    <tr>\n",
       "      <th>4</th>\n",
       "      <td>2018-02-13</td>\n",
       "      <td>Hannity</td>\n",
       "      <td>Welcome to HANNITY.\\nWe have a ton of new brea...</td>\n",
       "      <td>Fox News</td>\n",
       "    </tr>\n",
       "  </tbody>\n",
       "</table>\n",
       "</div>"
      ],
      "text/plain": [
       "        Date     Show                                            Content  \\\n",
       "0 2018-02-19  Hannity  SEAN HANNITY, FOX NEWS HOST: Hey, Tucker. Grea...   \n",
       "1 2018-02-16  Hannity  SEAN HANNITY, HOST: This is a Fox News alert. ...   \n",
       "2 2018-02-15  Hannity  SEAN HANNITY: And welcome to HANNITY. And this...   \n",
       "3 2018-02-14  Hannity  SEAN HANNITY, FOX NEWS HOST: Welcome to HANNIT...   \n",
       "4 2018-02-13  Hannity  Welcome to HANNITY.\\nWe have a ton of new brea...   \n",
       "\n",
       "    Network  \n",
       "0  Fox News  \n",
       "1  Fox News  \n",
       "2  Fox News  \n",
       "3  Fox News  \n",
       "4  Fox News  "
      ]
     },
     "execution_count": 5,
     "metadata": {},
     "output_type": "execute_result"
    }
   ],
   "source": [
    "sean = hannity[['Date','Show','Content','Network']]\n",
    "sean.head()"
   ]
  },
  {
   "cell_type": "markdown",
   "metadata": {},
   "source": [
    "### Rachel Maddow"
   ]
  },
  {
   "cell_type": "code",
   "execution_count": 6,
   "metadata": {
    "ExecuteTime": {
     "end_time": "2018-02-27T20:05:36.783895Z",
     "start_time": "2018-02-27T20:05:36.716602Z"
    }
   },
   "outputs": [],
   "source": [
    "# load data\n",
    "maddow = pickle.load(open('pickles/raw_data/df_RachelMaddow.pickle','rb'))"
   ]
  },
  {
   "cell_type": "code",
   "execution_count": 7,
   "metadata": {
    "ExecuteTime": {
     "end_time": "2018-02-27T20:05:37.510847Z",
     "start_time": "2018-02-27T20:05:37.203292Z"
    }
   },
   "outputs": [],
   "source": [
    "# do some reordering\n",
    "maddow = maddow[['Date', 'Title', 'Content', 'URLs', 'Show']]\n",
    "maddow.rename(columns = {'URLs':'URL'},inplace=True)\n",
    "maddow.Date = pd.to_datetime(maddow.Date)\n",
    "maddow.Content = maddow.Content.str.replace(r'^.*\\n.*\\n.*\\n\\n?','')\n",
    "maddow = maddow.sort_values('Date', ascending = False)\n",
    "maddow['Network'] = 'MSNBC'\n",
    "\n",
    "rachel = maddow[['Date','Show','Content','Network']]"
   ]
  },
  {
   "cell_type": "markdown",
   "metadata": {},
   "source": [
    "### Anderson Cooper"
   ]
  },
  {
   "cell_type": "code",
   "execution_count": 8,
   "metadata": {
    "ExecuteTime": {
     "end_time": "2018-02-27T20:05:39.339077Z",
     "start_time": "2018-02-27T20:05:39.253931Z"
    }
   },
   "outputs": [],
   "source": [
    "cooper = pickle.load(open('pickles/raw_data/df_ac360.pickle','rb'))"
   ]
  },
  {
   "cell_type": "code",
   "execution_count": 9,
   "metadata": {
    "ExecuteTime": {
     "end_time": "2018-02-27T20:05:40.958566Z",
     "start_time": "2018-02-27T20:05:40.353474Z"
    }
   },
   "outputs": [],
   "source": [
    "cooper.rename(columns = {'URLs':'URL'},inplace=True)\n",
    "cooper.Date = pd.to_datetime(cooper.Date, yearfirst=True)\n",
    "cooper.Content = cooper.Content.str.replace(r'^\\(?COMMERCIAL BREAK\\)','')\n",
    "cooper = cooper.sort_values('Date', ascending = False)\n",
    "\n",
    "cooper['Network'] = 'CNN'"
   ]
  },
  {
   "cell_type": "code",
   "execution_count": 10,
   "metadata": {
    "ExecuteTime": {
     "end_time": "2018-02-27T20:05:42.290242Z",
     "start_time": "2018-02-27T20:05:42.269678Z"
    }
   },
   "outputs": [
    {
     "data": {
      "text/html": [
       "<div>\n",
       "<style scoped>\n",
       "    .dataframe tbody tr th:only-of-type {\n",
       "        vertical-align: middle;\n",
       "    }\n",
       "\n",
       "    .dataframe tbody tr th {\n",
       "        vertical-align: top;\n",
       "    }\n",
       "\n",
       "    .dataframe thead th {\n",
       "        text-align: right;\n",
       "    }\n",
       "</style>\n",
       "<table border=\"1\" class=\"dataframe\">\n",
       "  <thead>\n",
       "    <tr style=\"text-align: right;\">\n",
       "      <th></th>\n",
       "      <th>Title</th>\n",
       "      <th>Date</th>\n",
       "      <th>URL</th>\n",
       "      <th>Content</th>\n",
       "      <th>ShowNum</th>\n",
       "      <th>Show</th>\n",
       "      <th>Network</th>\n",
       "    </tr>\n",
       "  </thead>\n",
       "  <tbody>\n",
       "    <tr>\n",
       "      <th>0</th>\n",
       "      <td>Pres. Trump Tweets: \"We Must Now Focus On Stre...</td>\n",
       "      <td>2018-02-20</td>\n",
       "      <td>http://transcripts.cnn.com//TRANSCRIPTS/1802/2...</td>\n",
       "      <td>\\n\\n[21:00:27] ANDERSON COOPER, CNN HOST: Welc...</td>\n",
       "      <td>02</td>\n",
       "      <td>Anderson Cooper 360</td>\n",
       "      <td>CNN</td>\n",
       "    </tr>\n",
       "    <tr>\n",
       "      <th>1</th>\n",
       "      <td>President Trump Blames President Obama for Rus...</td>\n",
       "      <td>2018-02-20</td>\n",
       "      <td>http://transcripts.cnn.com//TRANSCRIPTS/1802/2...</td>\n",
       "      <td>[20:00:07] ANDERSON COOPER, CNN HOST: Good eve...</td>\n",
       "      <td>01</td>\n",
       "      <td>Anderson Cooper 360</td>\n",
       "      <td>CNN</td>\n",
       "    </tr>\n",
       "    <tr>\n",
       "      <th>2</th>\n",
       "      <td>President Trump Uses Florida Massacre to Attac...</td>\n",
       "      <td>2018-02-19</td>\n",
       "      <td>http://transcripts.cnn.com//TRANSCRIPTS/1802/1...</td>\n",
       "      <td>[20:00:08] ANDERSON COOPER, CNN HOST: Good eve...</td>\n",
       "      <td>01</td>\n",
       "      <td>Anderson Cooper 360</td>\n",
       "      <td>CNN</td>\n",
       "    </tr>\n",
       "    <tr>\n",
       "      <th>3</th>\n",
       "      <td>Pres. Trump Slams FBI's Handling of Tip on Sch...</td>\n",
       "      <td>2018-02-19</td>\n",
       "      <td>http://transcripts.cnn.com//TRANSCRIPTS/1802/1...</td>\n",
       "      <td>\\n\\n[21:00:16] ANDERSON COOPER, CNN HOST: Welc...</td>\n",
       "      <td>02</td>\n",
       "      <td>Anderson Cooper 360</td>\n",
       "      <td>CNN</td>\n",
       "    </tr>\n",
       "    <tr>\n",
       "      <th>4</th>\n",
       "      <td>Mueller Charges 13 Russians with Interfering i...</td>\n",
       "      <td>2018-02-16</td>\n",
       "      <td>http://transcripts.cnn.com//TRANSCRIPTS/1802/1...</td>\n",
       "      <td>[20:00:09] ANDERSON COOPER, CNN HOST: Good eve...</td>\n",
       "      <td>01</td>\n",
       "      <td>Anderson Cooper 360</td>\n",
       "      <td>CNN</td>\n",
       "    </tr>\n",
       "  </tbody>\n",
       "</table>\n",
       "</div>"
      ],
      "text/plain": [
       "                                               Title       Date  \\\n",
       "0  Pres. Trump Tweets: \"We Must Now Focus On Stre... 2018-02-20   \n",
       "1  President Trump Blames President Obama for Rus... 2018-02-20   \n",
       "2  President Trump Uses Florida Massacre to Attac... 2018-02-19   \n",
       "3  Pres. Trump Slams FBI's Handling of Tip on Sch... 2018-02-19   \n",
       "4  Mueller Charges 13 Russians with Interfering i... 2018-02-16   \n",
       "\n",
       "                                                 URL  \\\n",
       "0  http://transcripts.cnn.com//TRANSCRIPTS/1802/2...   \n",
       "1  http://transcripts.cnn.com//TRANSCRIPTS/1802/2...   \n",
       "2  http://transcripts.cnn.com//TRANSCRIPTS/1802/1...   \n",
       "3  http://transcripts.cnn.com//TRANSCRIPTS/1802/1...   \n",
       "4  http://transcripts.cnn.com//TRANSCRIPTS/1802/1...   \n",
       "\n",
       "                                             Content ShowNum  \\\n",
       "0  \\n\\n[21:00:27] ANDERSON COOPER, CNN HOST: Welc...      02   \n",
       "1  [20:00:07] ANDERSON COOPER, CNN HOST: Good eve...      01   \n",
       "2  [20:00:08] ANDERSON COOPER, CNN HOST: Good eve...      01   \n",
       "3  \\n\\n[21:00:16] ANDERSON COOPER, CNN HOST: Welc...      02   \n",
       "4  [20:00:09] ANDERSON COOPER, CNN HOST: Good eve...      01   \n",
       "\n",
       "                  Show Network  \n",
       "0  Anderson Cooper 360     CNN  \n",
       "1  Anderson Cooper 360     CNN  \n",
       "2  Anderson Cooper 360     CNN  \n",
       "3  Anderson Cooper 360     CNN  \n",
       "4  Anderson Cooper 360     CNN  "
      ]
     },
     "execution_count": 10,
     "metadata": {},
     "output_type": "execute_result"
    }
   ],
   "source": [
    "cooper.head()"
   ]
  },
  {
   "cell_type": "code",
   "execution_count": 26,
   "metadata": {
    "ExecuteTime": {
     "end_time": "2018-02-27T20:19:27.122571Z",
     "start_time": "2018-02-27T20:19:27.119888Z"
    },
    "scrolled": true
   },
   "outputs": [],
   "source": [
    "#print_random_transcript(cooper)"
   ]
  },
  {
   "cell_type": "code",
   "execution_count": 65,
   "metadata": {
    "ExecuteTime": {
     "end_time": "2018-02-27T21:01:47.038843Z",
     "start_time": "2018-02-27T21:01:47.022358Z"
    },
    "scrolled": true
   },
   "outputs": [
    {
     "data": {
      "text/html": [
       "<div>\n",
       "<style scoped>\n",
       "    .dataframe tbody tr th:only-of-type {\n",
       "        vertical-align: middle;\n",
       "    }\n",
       "\n",
       "    .dataframe tbody tr th {\n",
       "        vertical-align: top;\n",
       "    }\n",
       "\n",
       "    .dataframe thead th {\n",
       "        text-align: right;\n",
       "    }\n",
       "</style>\n",
       "<table border=\"1\" class=\"dataframe\">\n",
       "  <thead>\n",
       "    <tr style=\"text-align: right;\">\n",
       "      <th></th>\n",
       "      <th>Date</th>\n",
       "      <th>Show</th>\n",
       "      <th>Content</th>\n",
       "      <th>Network</th>\n",
       "    </tr>\n",
       "  </thead>\n",
       "  <tbody>\n",
       "    <tr>\n",
       "      <th>0</th>\n",
       "      <td>2018-02-20</td>\n",
       "      <td>Anderson Cooper 360</td>\n",
       "      <td>\\n\\n[21:00:27] ANDERSON COOPER, CNN HOST: Welc...</td>\n",
       "      <td>CNN</td>\n",
       "    </tr>\n",
       "    <tr>\n",
       "      <th>1</th>\n",
       "      <td>2018-02-20</td>\n",
       "      <td>Anderson Cooper 360</td>\n",
       "      <td>[20:00:07] ANDERSON COOPER, CNN HOST: Good eve...</td>\n",
       "      <td>CNN</td>\n",
       "    </tr>\n",
       "    <tr>\n",
       "      <th>2</th>\n",
       "      <td>2018-02-19</td>\n",
       "      <td>Anderson Cooper 360</td>\n",
       "      <td>[20:00:08] ANDERSON COOPER, CNN HOST: Good eve...</td>\n",
       "      <td>CNN</td>\n",
       "    </tr>\n",
       "    <tr>\n",
       "      <th>3</th>\n",
       "      <td>2018-02-19</td>\n",
       "      <td>Anderson Cooper 360</td>\n",
       "      <td>\\n\\n[21:00:16] ANDERSON COOPER, CNN HOST: Welc...</td>\n",
       "      <td>CNN</td>\n",
       "    </tr>\n",
       "    <tr>\n",
       "      <th>4</th>\n",
       "      <td>2018-02-16</td>\n",
       "      <td>Anderson Cooper 360</td>\n",
       "      <td>[20:00:09] ANDERSON COOPER, CNN HOST: Good eve...</td>\n",
       "      <td>CNN</td>\n",
       "    </tr>\n",
       "  </tbody>\n",
       "</table>\n",
       "</div>"
      ],
      "text/plain": [
       "        Date                 Show  \\\n",
       "0 2018-02-20  Anderson Cooper 360   \n",
       "1 2018-02-20  Anderson Cooper 360   \n",
       "2 2018-02-19  Anderson Cooper 360   \n",
       "3 2018-02-19  Anderson Cooper 360   \n",
       "4 2018-02-16  Anderson Cooper 360   \n",
       "\n",
       "                                             Content Network  \n",
       "0  \\n\\n[21:00:27] ANDERSON COOPER, CNN HOST: Welc...     CNN  \n",
       "1  [20:00:07] ANDERSON COOPER, CNN HOST: Good eve...     CNN  \n",
       "2  [20:00:08] ANDERSON COOPER, CNN HOST: Good eve...     CNN  \n",
       "3  \\n\\n[21:00:16] ANDERSON COOPER, CNN HOST: Welc...     CNN  \n",
       "4  [20:00:09] ANDERSON COOPER, CNN HOST: Good eve...     CNN  "
      ]
     },
     "execution_count": 65,
     "metadata": {},
     "output_type": "execute_result"
    }
   ],
   "source": [
    "anderson = cooper[['Date','Show','Content','Network']]\n",
    "anderson.head()"
   ]
  },
  {
   "cell_type": "markdown",
   "metadata": {},
   "source": [
    "### Tucker Carlson"
   ]
  },
  {
   "cell_type": "code",
   "execution_count": 25,
   "metadata": {
    "ExecuteTime": {
     "end_time": "2018-02-27T20:19:20.050466Z",
     "start_time": "2018-02-27T20:19:20.013951Z"
    }
   },
   "outputs": [],
   "source": [
    "carlson = pickle.load(open('pickles/raw_data/df_tucker_carlson.pickle','rb'))"
   ]
  },
  {
   "cell_type": "code",
   "execution_count": 38,
   "metadata": {
    "ExecuteTime": {
     "end_time": "2018-02-27T20:44:06.446461Z",
     "start_time": "2018-02-27T20:44:06.437882Z"
    }
   },
   "outputs": [],
   "source": [
    "carlson.rename(columns = {'URLs':'URL'},inplace=True)\n",
    "carlson.Date = pd.to_datetime(carlson.Date)\n",
    "carlson = carlson.sort_values('Date', ascending = False)\n",
    "\n",
    "carlson[\"Network\"] = 'Fox'"
   ]
  },
  {
   "cell_type": "code",
   "execution_count": 41,
   "metadata": {
    "ExecuteTime": {
     "end_time": "2018-02-27T20:44:41.718540Z",
     "start_time": "2018-02-27T20:44:41.713314Z"
    }
   },
   "outputs": [],
   "source": [
    "tucker = carlson[['Date','Show','Content','Network']]"
   ]
  },
  {
   "cell_type": "code",
   "execution_count": 48,
   "metadata": {
    "ExecuteTime": {
     "end_time": "2018-02-27T20:54:54.075974Z",
     "start_time": "2018-02-27T20:54:54.061470Z"
    }
   },
   "outputs": [
    {
     "data": {
      "text/html": [
       "<div>\n",
       "<style scoped>\n",
       "    .dataframe tbody tr th:only-of-type {\n",
       "        vertical-align: middle;\n",
       "    }\n",
       "\n",
       "    .dataframe tbody tr th {\n",
       "        vertical-align: top;\n",
       "    }\n",
       "\n",
       "    .dataframe thead th {\n",
       "        text-align: right;\n",
       "    }\n",
       "</style>\n",
       "<table border=\"1\" class=\"dataframe\">\n",
       "  <thead>\n",
       "    <tr style=\"text-align: right;\">\n",
       "      <th></th>\n",
       "      <th>Date</th>\n",
       "      <th>Show</th>\n",
       "      <th>Content</th>\n",
       "      <th>Network</th>\n",
       "    </tr>\n",
       "  </thead>\n",
       "  <tbody>\n",
       "    <tr>\n",
       "      <th>0</th>\n",
       "      <td>2018-02-20</td>\n",
       "      <td>Tucker Carlson Tonight</td>\n",
       "      <td>5:00 pm\\n   excellent student who love the bea...</td>\n",
       "      <td>Fox</td>\n",
       "    </tr>\n",
       "    <tr>\n",
       "      <th>1</th>\n",
       "      <td>2018-02-19</td>\n",
       "      <td>Tucker Carlson Tonight</td>\n",
       "      <td>9:00 pm\\n   display but not subjected on the d...</td>\n",
       "      <td>Fox</td>\n",
       "    </tr>\n",
       "    <tr>\n",
       "      <th>2</th>\n",
       "      <td>2018-02-16</td>\n",
       "      <td>Tucker Carlson Tonight</td>\n",
       "      <td>5:00 pm\\nin their prayers. good night, everybo...</td>\n",
       "      <td>Fox</td>\n",
       "    </tr>\n",
       "    <tr>\n",
       "      <th>3</th>\n",
       "      <td>2018-02-15</td>\n",
       "      <td>Tucker Carlson Tonight</td>\n",
       "      <td>5:00 pm\\nsinister thoughts, we love to hear th...</td>\n",
       "      <td>Fox</td>\n",
       "    </tr>\n",
       "    <tr>\n",
       "      <th>4</th>\n",
       "      <td>2018-02-14</td>\n",
       "      <td>Tucker Carlson Tonight</td>\n",
       "      <td>9:00 pm\\nthe school, his potential motives and...</td>\n",
       "      <td>Fox</td>\n",
       "    </tr>\n",
       "  </tbody>\n",
       "</table>\n",
       "</div>"
      ],
      "text/plain": [
       "        Date                    Show  \\\n",
       "0 2018-02-20  Tucker Carlson Tonight   \n",
       "1 2018-02-19  Tucker Carlson Tonight   \n",
       "2 2018-02-16  Tucker Carlson Tonight   \n",
       "3 2018-02-15  Tucker Carlson Tonight   \n",
       "4 2018-02-14  Tucker Carlson Tonight   \n",
       "\n",
       "                                             Content Network  \n",
       "0  5:00 pm\\n   excellent student who love the bea...     Fox  \n",
       "1  9:00 pm\\n   display but not subjected on the d...     Fox  \n",
       "2  5:00 pm\\nin their prayers. good night, everybo...     Fox  \n",
       "3  5:00 pm\\nsinister thoughts, we love to hear th...     Fox  \n",
       "4  9:00 pm\\nthe school, his potential motives and...     Fox  "
      ]
     },
     "execution_count": 48,
     "metadata": {},
     "output_type": "execute_result"
    }
   ],
   "source": [
    "tucker.head() # unfortunately, we won't be able to analyze by speaker for tucker :("
   ]
  },
  {
   "cell_type": "markdown",
   "metadata": {
    "ExecuteTime": {
     "end_time": "2018-02-27T20:34:17.713257Z",
     "start_time": "2018-02-27T20:34:17.710554Z"
    }
   },
   "source": [
    "### Random Transcript Printing"
   ]
  },
  {
   "cell_type": "code",
   "execution_count": 4,
   "metadata": {
    "ExecuteTime": {
     "end_time": "2018-02-27T20:05:55.795098Z",
     "start_time": "2018-02-27T20:05:55.787063Z"
    },
    "code_folding": []
   },
   "outputs": [],
   "source": [
    "def print_random_transcript(name, start=0, end=-1):\n",
    "    '''\n",
    "    Function to debug data exploration with transcript data. Returns date, length, and transcript content.\n",
    "    ----------\n",
    "    Args:\n",
    "    \n",
    "    name = name of dataframe (transcript series must be of format name['Content'],\n",
    "    where name is a pandas dataframe and series values are strings) ***\n",
    "    \n",
    "    start = where to start slicing the string. Default is 0 \n",
    "    \n",
    "    end = where to stop slicing the string. Default is -1\n",
    "    '''\n",
    "    import numpy as np\n",
    "    \n",
    "    \n",
    "    rand_num = np.random.randint\n",
    "    slice_ = rand_num(0,(len(name))+1)\n",
    "    print(name.Date[slice_], f'at index: {str(slice_)}'\n",
    "          f\"\\nLENGTH OF TRANSCRIPT: {len(name.Content[slice_][start : end])}\\n\",\n",
    "          \"-\"*75, '\\n',\n",
    "          name.Content[slice_][start : end])"
   ]
  },
  {
   "cell_type": "code",
   "execution_count": 3,
   "metadata": {
    "ExecuteTime": {
     "end_time": "2018-02-27T20:56:23.203355Z",
     "start_time": "2018-02-27T20:56:23.200373Z"
    }
   },
   "outputs": [
    {
     "ename": "NameError",
     "evalue": "name 'hannity' is not defined",
     "output_type": "error",
     "traceback": [
      "\u001b[0;31m---------------------------------------------------------------------------\u001b[0m",
      "\u001b[0;31mNameError\u001b[0m                                 Traceback (most recent call last)",
      "\u001b[0;32m<ipython-input-3-67c61edcb257>\u001b[0m in \u001b[0;36m<module>\u001b[0;34m()\u001b[0m\n\u001b[0;32m----> 1\u001b[0;31m \u001b[0mprint_random_transcript\u001b[0m\u001b[0;34m(\u001b[0m\u001b[0mhannity\u001b[0m\u001b[0;34m)\u001b[0m\u001b[0;34m\u001b[0m\u001b[0m\n\u001b[0m",
      "\u001b[0;31mNameError\u001b[0m: name 'hannity' is not defined"
     ]
    }
   ],
   "source": [
    "# print_random_transcript(hannity)"
   ]
  },
  {
   "cell_type": "code",
   "execution_count": 51,
   "metadata": {
    "ExecuteTime": {
     "end_time": "2018-02-27T20:56:20.290804Z",
     "start_time": "2018-02-27T20:56:20.287220Z"
    }
   },
   "outputs": [],
   "source": [
    "# print_random_transcript(cooper)"
   ]
  },
  {
   "cell_type": "code",
   "execution_count": 50,
   "metadata": {
    "ExecuteTime": {
     "end_time": "2018-02-27T20:56:17.120624Z",
     "start_time": "2018-02-27T20:56:17.117086Z"
    }
   },
   "outputs": [],
   "source": [
    "# print_random_transcript(maddow)"
   ]
  },
  {
   "cell_type": "code",
   "execution_count": 49,
   "metadata": {
    "ExecuteTime": {
     "end_time": "2018-02-27T20:56:14.575630Z",
     "start_time": "2018-02-27T20:56:14.571784Z"
    },
    "scrolled": true
   },
   "outputs": [],
   "source": [
    "# print_random_transcript(carlson)"
   ]
  },
  {
   "cell_type": "markdown",
   "metadata": {},
   "source": [
    "### Data Dumps"
   ]
  },
  {
   "cell_type": "code",
   "execution_count": 66,
   "metadata": {
    "ExecuteTime": {
     "end_time": "2018-02-27T21:01:50.742151Z",
     "start_time": "2018-02-27T21:01:50.435152Z"
    }
   },
   "outputs": [],
   "source": [
    "pickle.dump(sean, \n",
    "            open('pickles/sean.p',\n",
    "                 'wb'))\n",
    "\n",
    "pickle.dump(rachel, \n",
    "            open('pickles/rachel.p',\n",
    "                 'wb'))\n",
    "\n",
    "pickle.dump(anderson, \n",
    "            open('pickles/anderson.p',\n",
    "                 'wb'))\n",
    "\n",
    "pickle.dump(tucker, \n",
    "            open('pickles/tucker.p',\n",
    "                 'wb'))"
   ]
  },
  {
   "cell_type": "markdown",
   "metadata": {},
   "source": [
    "## Exploratory Data Analysis"
   ]
  },
  {
   "cell_type": "markdown",
   "metadata": {},
   "source": [
    "### The Giler List\n",
    "#### Exploring the following methods:\n",
    "- [Basic Text Analysis](https://github.com/thisismetis/nyc18_ds14/blob/master/class_lectures/week06-mcnulty3/05-nlp/NLP_nltk.ipynb) (Sentence and word tokenization, part of speech tagging, chunking)"
   ]
  },
  {
   "cell_type": "code",
   "execution_count": 67,
   "metadata": {
    "ExecuteTime": {
     "end_time": "2018-02-27T21:01:54.672366Z",
     "start_time": "2018-02-27T21:01:53.599063Z"
    }
   },
   "outputs": [],
   "source": [
    "from nltk.tokenize import sent_tokenize, word_tokenize, wordpunct_tokenize\n",
    "from nltk.tag      import pos_tag\n",
    "from textblob      import TextBlob\n",
    "from collections   import defaultdict\n",
    "\n",
    "import re"
   ]
  },
  {
   "cell_type": "code",
   "execution_count": 68,
   "metadata": {
    "ExecuteTime": {
     "end_time": "2018-02-27T21:01:55.577850Z",
     "start_time": "2018-02-27T21:01:55.391099Z"
    }
   },
   "outputs": [],
   "source": [
    "sean = pickle.load(open('pickles/sean.p','rb'))\n",
    "rachel = pickle.load(open('pickles/rachel.p','rb'))\n",
    "anderson = pickle.load(open('pickles/anderson.p','rb'))\n",
    "tucker = pickle.load(open('pickles/tucker.p','rb'))"
   ]
  },
  {
   "cell_type": "markdown",
   "metadata": {},
   "source": [
    "#### Single String Corpora generated from transcripts"
   ]
  },
  {
   "cell_type": "code",
   "execution_count": 71,
   "metadata": {
    "ExecuteTime": {
     "end_time": "2018-02-27T21:02:08.546160Z",
     "start_time": "2018-02-27T21:02:08.534980Z"
    }
   },
   "outputs": [
    {
     "data": {
      "text/plain": [
       "(923, 4)"
      ]
     },
     "execution_count": 71,
     "metadata": {},
     "output_type": "execute_result"
    }
   ],
   "source": [
    "anderson = anderson.dropna(subset = ['Content'])\n",
    "anderson.shape"
   ]
  },
  {
   "cell_type": "code",
   "execution_count": 72,
   "metadata": {
    "ExecuteTime": {
     "end_time": "2018-02-27T21:02:09.948091Z",
     "start_time": "2018-02-27T21:02:09.810318Z"
    }
   },
   "outputs": [],
   "source": [
    "#  converting pandas series to single string\n",
    "\n",
    "sean_corpus = ''\n",
    "for transcript in sean.Content:\n",
    "    sean_corpus += transcript\n",
    "\n",
    "rachel_corpus = ''\n",
    "for transcript in rachel.Content:\n",
    "    rachel_corpus += transcript\n",
    "    \n",
    "anderson_corpus = ''\n",
    "for transcript in anderson.Content:\n",
    "    anderson_corpus += transcript\n",
    "    \n",
    "tucker_corpus = ''\n",
    "for transcript in tucker.Content:\n",
    "    tucker_corpus += transcript\n",
    "    \n"
   ]
  },
  {
   "cell_type": "markdown",
   "metadata": {},
   "source": [
    "#### Data Dumps Pt2 - Single-string corpora"
   ]
  },
  {
   "cell_type": "code",
   "execution_count": 73,
   "metadata": {
    "ExecuteTime": {
     "end_time": "2018-02-27T21:05:05.788448Z",
     "start_time": "2018-02-27T21:05:05.472928Z"
    }
   },
   "outputs": [],
   "source": [
    "pickle.dump(sean_corpus, \n",
    "            open('pickles/corpus_sean.p',\n",
    "                 'wb'))\n",
    "\n",
    "pickle.dump(rachel_corpus, \n",
    "            open('pickles/corpus_rachel.p',\n",
    "                 'wb'))\n",
    "\n",
    "pickle.dump(anderson_corpus, \n",
    "            open('pickles/corpus_anderson.p',\n",
    "                 'wb'))\n",
    "\n",
    "pickle.dump(tucker_corpus, \n",
    "            open('pickles/corpus_tucker.p',\n",
    "                 'wb'))"
   ]
  },
  {
   "cell_type": "markdown",
   "metadata": {},
   "source": [
    "##### Other Random Transcript Generator Functions"
   ]
  },
  {
   "cell_type": "code",
   "execution_count": 12,
   "metadata": {},
   "outputs": [],
   "source": [
    "# def print_random_sean(start=0, end=-1):\n",
    "#     rand_num = np.random.randint\n",
    "#     slice_ = rand_num(0,(len(sean))+1)\n",
    "#     print(sean.Date[slice_],\n",
    "#           '\\n', \n",
    "#           sean.Content[slice_][start : end])\n",
    "    \n",
    "# def print_random_rachel(start=0, end=-1):\n",
    "#     rand_num = np.random.randint\n",
    "#     slice_ = rand_num(0,(len(rachel))+1)\n",
    "#     print(rachel.Date[slice_],\n",
    "#           '\\n', \n",
    "#           rachel.Content[slice_][start : end])\n",
    "\n",
    "# # print_random_sean()\n",
    "# # print_random_rachel()"
   ]
  },
  {
   "cell_type": "code",
   "execution_count": 79,
   "metadata": {},
   "outputs": [],
   "source": [
    "# def return_random_sean():\n",
    "#     rand_num = np.random.randint\n",
    "#     slice_ = rand_num(0,(len(sean))+1)\n",
    "#     return sean.Content[slice_]\n",
    "    \n",
    "# def return_random_sean():\n",
    "#     rand_num = np.random.randint\n",
    "#     slice_ = rand_num(0,(len(sean))+1)\n",
    "#     return sean.Content[slice_]"
   ]
  },
  {
   "cell_type": "code",
   "execution_count": 22,
   "metadata": {},
   "outputs": [],
   "source": [
    "### TO DO -> get frequency distribution of POS for both corpora?\n",
    "### how to work with lots and lots and lots of text data?"
   ]
  },
  {
   "cell_type": "code",
   "execution_count": 26,
   "metadata": {},
   "outputs": [],
   "source": [
    "# master_sean_blob = TextBlob(sean_corpus) \n",
    "### is this not what I want? maybe \n",
    "### I need to do one document at a time?"
   ]
  },
  {
   "cell_type": "markdown",
   "metadata": {},
   "source": [
    "#### Corpus Tagger"
   ]
  },
  {
   "cell_type": "code",
   "execution_count": 35,
   "metadata": {},
   "outputs": [],
   "source": [
    "# function that returns a default dictionary of part-of-speech counts for the passed-in string.\n",
    "\n",
    "def corpus_tagger(string):\n",
    "    from textblob import TextBlob\n",
    "    from textblob.taggers import NLTKTagger\n",
    "    nltk_tagger = NLTKTagger()\n",
    "    blob = TextBlob(string, pos_tagger=nltk_tagger)\n",
    "    \n",
    "    corpus_tags = defaultdict(int)\n",
    "    for sentence in blob.sentences:\n",
    "        for tag in sentence.tags:\n",
    "            corpus_tags[tag[1]] += 1\n",
    "    \n",
    "    return corpus_tags\n",
    "\n",
    "sean_tags = corpus_tagger(sean_corpus)\n",
    "\n",
    "rachel_tags = corpus_tagger(rachel_corpus)"
   ]
  },
  {
   "cell_type": "code",
   "execution_count": 37,
   "metadata": {},
   "outputs": [],
   "source": [
    "pickle.dump(sean_tags, open('pickles/sean_pos_tags.p','wb'))\n",
    "pickle.dump(rachel_tags, open('pickles/rachel_pos_tags.p','wb'))"
   ]
  },
  {
   "cell_type": "markdown",
   "metadata": {},
   "source": [
    "#### n-grams?"
   ]
  },
  {
   "cell_type": "code",
   "execution_count": 134,
   "metadata": {},
   "outputs": [],
   "source": [
    "from nltk.util import ngrams\n",
    "from nltk.corpus import stopwords\n",
    "\n",
    "from collections import Counter\n",
    "from operator import itemgetter\n",
    "\n",
    "stop = set(stopwords.words('english') + ['.', ',', '(', ')', \"'\", '\"'])"
   ]
  },
  {
   "cell_type": "markdown",
   "metadata": {},
   "source": [
    "- Dimension Reduction (PCA)\n",
    "    - [PCA Lecture](https://github.com/thisismetis/nyc18_ds14/blob/master/class_lectures/week07-fletcher1/02-dim_reduct_pca/Dimensionality_Reduction_PCA.pdf)\n",
    "    - [PCA / SVD Code](https://github.com/thisismetis/nyc18_ds14/blob/master/class_lectures/week07-fletcher1/02-dim_reduct_pca/pca_SVD.ipynb)\n",
    "    - [LDA / LSA / NMF](https://github.com/thisismetis/nyc18_ds14/blob/master/class_lectures/week07-fletcher1/02-dim_reduct_pca/LSA_NMF.ipynb)\n",
    "    - [Recommender Systems](https://github.com/thisismetis/nyc18_ds14/blob/master/class_lectures/week07-fletcher1/02-dim_reduct_pca/Recommender_Systems.ipynb)\n",
    "- Topic Modeling (UMF, LDA)\n",
    "    - [Lecture](https://github.com/thisismetis/nyc18_ds14/blob/master/class_lectures/week07-fletcher1/03-lda_topics_models/Topic_Modeling.pdf)\n",
    "    - [LDA Code](https://github.com/thisismetis/nyc18_ds14/blob/master/class_lectures/week07-fletcher1/03-lda_topics_models/LDA.ipynb)\n",
    "- [Word2Vec (Gensim)](https://github.com/thisismetis/nyc18_ds14/blob/master/class_lectures/week07-fletcher1/04-word2vec/WORD2VEC_GENSIM.ipynb)\n",
    "- Clustering (K-Means)\n",
    "    - [Lecture](https://github.com/thisismetis/nyc18_ds14/blob/master/class_lectures/week07-fletcher1/01-unsup_kmeans/Unsupervised_Learning_Kmeans.pdf)\n",
    "    - [Code](https://github.com/thisismetis/nyc18_ds14/blob/master/class_lectures/week07-fletcher1/01-unsup_kmeans/digits_clustering.ipynb)\n",
    "- Text Summarization\n",
    "    - [Sumy (Extractive Text Summarization)](https://pypi.python.org/pypi/sumy)\n",
    "    - [Keras *Maybe* (Abstractive Text Summarization)](https://hackernoon.com/how-to-run-text-summarization-with-tensorflow-d4472587602d)\n",
    "- Visualization\n",
    "    - Overall article topic distribution by blog\n",
    "    - ..."
   ]
  },
  {
   "cell_type": "code",
   "execution_count": 13,
   "metadata": {},
   "outputs": [],
   "source": [
    "from sklearn.feature_extraction.text import CountVectorizer\n",
    "from sklearn.feature_extraction.text import TfidfVectorizer"
   ]
  },
  {
   "cell_type": "markdown",
   "metadata": {},
   "source": [
    "#### Let's look at random transcripts!"
   ]
  },
  {
   "cell_type": "code",
   "execution_count": 38,
   "metadata": {},
   "outputs": [],
   "source": [
    "### I'd like to get the guests as a feature to add in. ??? could use this for practice with mongoDB"
   ]
  },
  {
   "cell_type": "markdown",
   "metadata": {},
   "source": [
    "#### BLOB"
   ]
  },
  {
   "cell_type": "code",
   "execution_count": 18,
   "metadata": {},
   "outputs": [],
   "source": [
    "from textblob import TextBlob"
   ]
  },
  {
   "cell_type": "code",
   "execution_count": 19,
   "metadata": {},
   "outputs": [
    {
     "name": "stdout",
     "output_type": "stream",
     "text": [
      "sentiment for sean Sentiment(polarity=0.08718841759429466, subjectivity=0.45373881187463877)\n",
      "sentiment for rachel Sentiment(polarity=0.0992786241349691, subjectivity=0.42796236550439926)\n"
     ]
    }
   ],
   "source": [
    "print( 'sentiment for sean' , TextBlob(sean_corpus).sentiment )\n",
    "print( 'sentiment for rachel' , TextBlob(rachel_corpus).sentiment )"
   ]
  },
  {
   "cell_type": "code",
   "execution_count": 20,
   "metadata": {},
   "outputs": [
    {
     "data": {
      "text/plain": [
       "{'polarity': 0.0992786241349691, 'subjectivity': 0.42796236550439926}"
      ]
     },
     "execution_count": 20,
     "metadata": {},
     "output_type": "execute_result"
    }
   ],
   "source": [
    "{'polarity' : 0.08718841759429466, 'subjectivity' : 0.45373881187463877}\n",
    "{'polarity' : 0.0992786241349691,  'subjectivity' : 0.42796236550439926}"
   ]
  },
  {
   "cell_type": "code",
   "execution_count": 549,
   "metadata": {},
   "outputs": [
    {
     "data": {
      "text/plain": [
       "Sentiment(polarity=0.0, subjectivity=0.0)"
      ]
     },
     "execution_count": 549,
     "metadata": {},
     "output_type": "execute_result"
    }
   ],
   "source": [
    "TextBlob('hello').sentiment"
   ]
  },
  {
   "cell_type": "code",
   "execution_count": 550,
   "metadata": {},
   "outputs": [],
   "source": [
    "def sentiment_(text):\n",
    "    return TextBlob(str(text)).sentiment\n",
    "\n",
    "def polarity_(text):\n",
    "    return TextBlob(str(text)).sentiment[0]\n",
    "\n",
    "def subjectivity_(text):\n",
    "    return TextBlob(str(text)).sentiment[1]"
   ]
  },
  {
   "cell_type": "code",
   "execution_count": 39,
   "metadata": {},
   "outputs": [],
   "source": [
    "    \n",
    "sean['polarity'] = sean['Content'].apply(polarity)\n",
    "sean['subjectivity'] = sean['Content'].apply(subjectivity)\n",
    "\n",
    "rachel['polarity'] = rachel['Content'].apply(polarity) \n",
    "rachel['subjectivity'] = rachel['Content'].apply(subjectivity) "
   ]
  },
  {
   "cell_type": "code",
   "execution_count": 38,
   "metadata": {},
   "outputs": [
    {
     "data": {
      "text/plain": [
       "Sentiment(polarity=0.0, subjectivity=0.0)"
      ]
     },
     "execution_count": 38,
     "metadata": {},
     "output_type": "execute_result"
    }
   ],
   "source": [
    "sentiment('hello')"
   ]
  },
  {
   "cell_type": "code",
   "execution_count": 89,
   "metadata": {
    "ExecuteTime": {
     "end_time": "2018-02-27T19:16:13.024402Z",
     "start_time": "2018-02-27T19:16:12.559051Z"
    }
   },
   "outputs": [
    {
     "ename": "KeyError",
     "evalue": "'polarity'",
     "output_type": "error",
     "traceback": [
      "\u001b[0;31m---------------------------------------------------------------------------\u001b[0m",
      "\u001b[0;31mKeyError\u001b[0m                                  Traceback (most recent call last)",
      "\u001b[0;32m/anaconda3/lib/python3.6/site-packages/pandas/core/indexes/base.py\u001b[0m in \u001b[0;36mget_loc\u001b[0;34m(self, key, method, tolerance)\u001b[0m\n\u001b[1;32m   2524\u001b[0m             \u001b[0;32mtry\u001b[0m\u001b[0;34m:\u001b[0m\u001b[0;34m\u001b[0m\u001b[0m\n\u001b[0;32m-> 2525\u001b[0;31m                 \u001b[0;32mreturn\u001b[0m \u001b[0mself\u001b[0m\u001b[0;34m.\u001b[0m\u001b[0m_engine\u001b[0m\u001b[0;34m.\u001b[0m\u001b[0mget_loc\u001b[0m\u001b[0;34m(\u001b[0m\u001b[0mkey\u001b[0m\u001b[0;34m)\u001b[0m\u001b[0;34m\u001b[0m\u001b[0m\n\u001b[0m\u001b[1;32m   2526\u001b[0m             \u001b[0;32mexcept\u001b[0m \u001b[0mKeyError\u001b[0m\u001b[0;34m:\u001b[0m\u001b[0;34m\u001b[0m\u001b[0m\n",
      "\u001b[0;32mpandas/_libs/index.pyx\u001b[0m in \u001b[0;36mpandas._libs.index.IndexEngine.get_loc\u001b[0;34m()\u001b[0m\n",
      "\u001b[0;32mpandas/_libs/index.pyx\u001b[0m in \u001b[0;36mpandas._libs.index.IndexEngine.get_loc\u001b[0;34m()\u001b[0m\n",
      "\u001b[0;32mpandas/_libs/hashtable_class_helper.pxi\u001b[0m in \u001b[0;36mpandas._libs.hashtable.PyObjectHashTable.get_item\u001b[0;34m()\u001b[0m\n",
      "\u001b[0;32mpandas/_libs/hashtable_class_helper.pxi\u001b[0m in \u001b[0;36mpandas._libs.hashtable.PyObjectHashTable.get_item\u001b[0;34m()\u001b[0m\n",
      "\u001b[0;31mKeyError\u001b[0m: 'polarity'",
      "\nDuring handling of the above exception, another exception occurred:\n",
      "\u001b[0;31mKeyError\u001b[0m                                  Traceback (most recent call last)",
      "\u001b[0;32m<ipython-input-89-9c1bbf0afe33>\u001b[0m in \u001b[0;36m<module>\u001b[0;34m()\u001b[0m\n\u001b[1;32m      4\u001b[0m \u001b[0max\u001b[0m\u001b[0;34m.\u001b[0m\u001b[0mset_title\u001b[0m\u001b[0;34m(\u001b[0m\u001b[0;34m'Polarity'\u001b[0m\u001b[0;34m)\u001b[0m\u001b[0;34m\u001b[0m\u001b[0m\n\u001b[1;32m      5\u001b[0m \u001b[0;34m\u001b[0m\u001b[0m\n\u001b[0;32m----> 6\u001b[0;31m \u001b[0max\u001b[0m\u001b[0;34m.\u001b[0m\u001b[0mplot\u001b[0m\u001b[0;34m(\u001b[0m\u001b[0msean\u001b[0m\u001b[0;34m[\u001b[0m\u001b[0;34m'Date'\u001b[0m\u001b[0;34m]\u001b[0m\u001b[0;34m,\u001b[0m \u001b[0msean\u001b[0m\u001b[0;34m[\u001b[0m\u001b[0;34m'polarity'\u001b[0m\u001b[0;34m]\u001b[0m\u001b[0;34m)\u001b[0m\u001b[0;34m\u001b[0m\u001b[0m\n\u001b[0m\u001b[1;32m      7\u001b[0m \u001b[0max\u001b[0m\u001b[0;34m.\u001b[0m\u001b[0mplot\u001b[0m\u001b[0;34m(\u001b[0m\u001b[0mrachel\u001b[0m\u001b[0;34m[\u001b[0m\u001b[0;34m'Date'\u001b[0m\u001b[0;34m]\u001b[0m\u001b[0;34m,\u001b[0m \u001b[0mrachel\u001b[0m\u001b[0;34m[\u001b[0m\u001b[0;34m'polarity'\u001b[0m\u001b[0;34m]\u001b[0m\u001b[0;34m)\u001b[0m\u001b[0;34m\u001b[0m\u001b[0m\n\u001b[1;32m      8\u001b[0m \u001b[0mplt\u001b[0m\u001b[0;34m.\u001b[0m\u001b[0mylim\u001b[0m\u001b[0;34m(\u001b[0m\u001b[0;34m-\u001b[0m\u001b[0;36m.7\u001b[0m\u001b[0;34m,\u001b[0m\u001b[0;36m.7\u001b[0m\u001b[0;34m)\u001b[0m\u001b[0;34m\u001b[0m\u001b[0m\n",
      "\u001b[0;32m/anaconda3/lib/python3.6/site-packages/pandas/core/frame.py\u001b[0m in \u001b[0;36m__getitem__\u001b[0;34m(self, key)\u001b[0m\n\u001b[1;32m   2137\u001b[0m             \u001b[0;32mreturn\u001b[0m \u001b[0mself\u001b[0m\u001b[0;34m.\u001b[0m\u001b[0m_getitem_multilevel\u001b[0m\u001b[0;34m(\u001b[0m\u001b[0mkey\u001b[0m\u001b[0;34m)\u001b[0m\u001b[0;34m\u001b[0m\u001b[0m\n\u001b[1;32m   2138\u001b[0m         \u001b[0;32melse\u001b[0m\u001b[0;34m:\u001b[0m\u001b[0;34m\u001b[0m\u001b[0m\n\u001b[0;32m-> 2139\u001b[0;31m             \u001b[0;32mreturn\u001b[0m \u001b[0mself\u001b[0m\u001b[0;34m.\u001b[0m\u001b[0m_getitem_column\u001b[0m\u001b[0;34m(\u001b[0m\u001b[0mkey\u001b[0m\u001b[0;34m)\u001b[0m\u001b[0;34m\u001b[0m\u001b[0m\n\u001b[0m\u001b[1;32m   2140\u001b[0m \u001b[0;34m\u001b[0m\u001b[0m\n\u001b[1;32m   2141\u001b[0m     \u001b[0;32mdef\u001b[0m \u001b[0m_getitem_column\u001b[0m\u001b[0;34m(\u001b[0m\u001b[0mself\u001b[0m\u001b[0;34m,\u001b[0m \u001b[0mkey\u001b[0m\u001b[0;34m)\u001b[0m\u001b[0;34m:\u001b[0m\u001b[0;34m\u001b[0m\u001b[0m\n",
      "\u001b[0;32m/anaconda3/lib/python3.6/site-packages/pandas/core/frame.py\u001b[0m in \u001b[0;36m_getitem_column\u001b[0;34m(self, key)\u001b[0m\n\u001b[1;32m   2144\u001b[0m         \u001b[0;31m# get column\u001b[0m\u001b[0;34m\u001b[0m\u001b[0;34m\u001b[0m\u001b[0m\n\u001b[1;32m   2145\u001b[0m         \u001b[0;32mif\u001b[0m \u001b[0mself\u001b[0m\u001b[0;34m.\u001b[0m\u001b[0mcolumns\u001b[0m\u001b[0;34m.\u001b[0m\u001b[0mis_unique\u001b[0m\u001b[0;34m:\u001b[0m\u001b[0;34m\u001b[0m\u001b[0m\n\u001b[0;32m-> 2146\u001b[0;31m             \u001b[0;32mreturn\u001b[0m \u001b[0mself\u001b[0m\u001b[0;34m.\u001b[0m\u001b[0m_get_item_cache\u001b[0m\u001b[0;34m(\u001b[0m\u001b[0mkey\u001b[0m\u001b[0;34m)\u001b[0m\u001b[0;34m\u001b[0m\u001b[0m\n\u001b[0m\u001b[1;32m   2147\u001b[0m \u001b[0;34m\u001b[0m\u001b[0m\n\u001b[1;32m   2148\u001b[0m         \u001b[0;31m# duplicate columns & possible reduce dimensionality\u001b[0m\u001b[0;34m\u001b[0m\u001b[0;34m\u001b[0m\u001b[0m\n",
      "\u001b[0;32m/anaconda3/lib/python3.6/site-packages/pandas/core/generic.py\u001b[0m in \u001b[0;36m_get_item_cache\u001b[0;34m(self, item)\u001b[0m\n\u001b[1;32m   1840\u001b[0m         \u001b[0mres\u001b[0m \u001b[0;34m=\u001b[0m \u001b[0mcache\u001b[0m\u001b[0;34m.\u001b[0m\u001b[0mget\u001b[0m\u001b[0;34m(\u001b[0m\u001b[0mitem\u001b[0m\u001b[0;34m)\u001b[0m\u001b[0;34m\u001b[0m\u001b[0m\n\u001b[1;32m   1841\u001b[0m         \u001b[0;32mif\u001b[0m \u001b[0mres\u001b[0m \u001b[0;32mis\u001b[0m \u001b[0;32mNone\u001b[0m\u001b[0;34m:\u001b[0m\u001b[0;34m\u001b[0m\u001b[0m\n\u001b[0;32m-> 1842\u001b[0;31m             \u001b[0mvalues\u001b[0m \u001b[0;34m=\u001b[0m \u001b[0mself\u001b[0m\u001b[0;34m.\u001b[0m\u001b[0m_data\u001b[0m\u001b[0;34m.\u001b[0m\u001b[0mget\u001b[0m\u001b[0;34m(\u001b[0m\u001b[0mitem\u001b[0m\u001b[0;34m)\u001b[0m\u001b[0;34m\u001b[0m\u001b[0m\n\u001b[0m\u001b[1;32m   1843\u001b[0m             \u001b[0mres\u001b[0m \u001b[0;34m=\u001b[0m \u001b[0mself\u001b[0m\u001b[0;34m.\u001b[0m\u001b[0m_box_item_values\u001b[0m\u001b[0;34m(\u001b[0m\u001b[0mitem\u001b[0m\u001b[0;34m,\u001b[0m \u001b[0mvalues\u001b[0m\u001b[0;34m)\u001b[0m\u001b[0;34m\u001b[0m\u001b[0m\n\u001b[1;32m   1844\u001b[0m             \u001b[0mcache\u001b[0m\u001b[0;34m[\u001b[0m\u001b[0mitem\u001b[0m\u001b[0;34m]\u001b[0m \u001b[0;34m=\u001b[0m \u001b[0mres\u001b[0m\u001b[0;34m\u001b[0m\u001b[0m\n",
      "\u001b[0;32m/anaconda3/lib/python3.6/site-packages/pandas/core/internals.py\u001b[0m in \u001b[0;36mget\u001b[0;34m(self, item, fastpath)\u001b[0m\n\u001b[1;32m   3841\u001b[0m \u001b[0;34m\u001b[0m\u001b[0m\n\u001b[1;32m   3842\u001b[0m             \u001b[0;32mif\u001b[0m \u001b[0;32mnot\u001b[0m \u001b[0misna\u001b[0m\u001b[0;34m(\u001b[0m\u001b[0mitem\u001b[0m\u001b[0;34m)\u001b[0m\u001b[0;34m:\u001b[0m\u001b[0;34m\u001b[0m\u001b[0m\n\u001b[0;32m-> 3843\u001b[0;31m                 \u001b[0mloc\u001b[0m \u001b[0;34m=\u001b[0m \u001b[0mself\u001b[0m\u001b[0;34m.\u001b[0m\u001b[0mitems\u001b[0m\u001b[0;34m.\u001b[0m\u001b[0mget_loc\u001b[0m\u001b[0;34m(\u001b[0m\u001b[0mitem\u001b[0m\u001b[0;34m)\u001b[0m\u001b[0;34m\u001b[0m\u001b[0m\n\u001b[0m\u001b[1;32m   3844\u001b[0m             \u001b[0;32melse\u001b[0m\u001b[0;34m:\u001b[0m\u001b[0;34m\u001b[0m\u001b[0m\n\u001b[1;32m   3845\u001b[0m                 \u001b[0mindexer\u001b[0m \u001b[0;34m=\u001b[0m \u001b[0mnp\u001b[0m\u001b[0;34m.\u001b[0m\u001b[0marange\u001b[0m\u001b[0;34m(\u001b[0m\u001b[0mlen\u001b[0m\u001b[0;34m(\u001b[0m\u001b[0mself\u001b[0m\u001b[0;34m.\u001b[0m\u001b[0mitems\u001b[0m\u001b[0;34m)\u001b[0m\u001b[0;34m)\u001b[0m\u001b[0;34m[\u001b[0m\u001b[0misna\u001b[0m\u001b[0;34m(\u001b[0m\u001b[0mself\u001b[0m\u001b[0;34m.\u001b[0m\u001b[0mitems\u001b[0m\u001b[0;34m)\u001b[0m\u001b[0;34m]\u001b[0m\u001b[0;34m\u001b[0m\u001b[0m\n",
      "\u001b[0;32m/anaconda3/lib/python3.6/site-packages/pandas/core/indexes/base.py\u001b[0m in \u001b[0;36mget_loc\u001b[0;34m(self, key, method, tolerance)\u001b[0m\n\u001b[1;32m   2525\u001b[0m                 \u001b[0;32mreturn\u001b[0m \u001b[0mself\u001b[0m\u001b[0;34m.\u001b[0m\u001b[0m_engine\u001b[0m\u001b[0;34m.\u001b[0m\u001b[0mget_loc\u001b[0m\u001b[0;34m(\u001b[0m\u001b[0mkey\u001b[0m\u001b[0;34m)\u001b[0m\u001b[0;34m\u001b[0m\u001b[0m\n\u001b[1;32m   2526\u001b[0m             \u001b[0;32mexcept\u001b[0m \u001b[0mKeyError\u001b[0m\u001b[0;34m:\u001b[0m\u001b[0;34m\u001b[0m\u001b[0m\n\u001b[0;32m-> 2527\u001b[0;31m                 \u001b[0;32mreturn\u001b[0m \u001b[0mself\u001b[0m\u001b[0;34m.\u001b[0m\u001b[0m_engine\u001b[0m\u001b[0;34m.\u001b[0m\u001b[0mget_loc\u001b[0m\u001b[0;34m(\u001b[0m\u001b[0mself\u001b[0m\u001b[0;34m.\u001b[0m\u001b[0m_maybe_cast_indexer\u001b[0m\u001b[0;34m(\u001b[0m\u001b[0mkey\u001b[0m\u001b[0;34m)\u001b[0m\u001b[0;34m)\u001b[0m\u001b[0;34m\u001b[0m\u001b[0m\n\u001b[0m\u001b[1;32m   2528\u001b[0m \u001b[0;34m\u001b[0m\u001b[0m\n\u001b[1;32m   2529\u001b[0m         \u001b[0mindexer\u001b[0m \u001b[0;34m=\u001b[0m \u001b[0mself\u001b[0m\u001b[0;34m.\u001b[0m\u001b[0mget_indexer\u001b[0m\u001b[0;34m(\u001b[0m\u001b[0;34m[\u001b[0m\u001b[0mkey\u001b[0m\u001b[0;34m]\u001b[0m\u001b[0;34m,\u001b[0m \u001b[0mmethod\u001b[0m\u001b[0;34m=\u001b[0m\u001b[0mmethod\u001b[0m\u001b[0;34m,\u001b[0m \u001b[0mtolerance\u001b[0m\u001b[0;34m=\u001b[0m\u001b[0mtolerance\u001b[0m\u001b[0;34m)\u001b[0m\u001b[0;34m\u001b[0m\u001b[0m\n",
      "\u001b[0;32mpandas/_libs/index.pyx\u001b[0m in \u001b[0;36mpandas._libs.index.IndexEngine.get_loc\u001b[0;34m()\u001b[0m\n",
      "\u001b[0;32mpandas/_libs/index.pyx\u001b[0m in \u001b[0;36mpandas._libs.index.IndexEngine.get_loc\u001b[0;34m()\u001b[0m\n",
      "\u001b[0;32mpandas/_libs/hashtable_class_helper.pxi\u001b[0m in \u001b[0;36mpandas._libs.hashtable.PyObjectHashTable.get_item\u001b[0;34m()\u001b[0m\n",
      "\u001b[0;32mpandas/_libs/hashtable_class_helper.pxi\u001b[0m in \u001b[0;36mpandas._libs.hashtable.PyObjectHashTable.get_item\u001b[0;34m()\u001b[0m\n",
      "\u001b[0;31mKeyError\u001b[0m: 'polarity'"
     ]
    },
    {
     "data": {
      "image/png": "[encoded data removed]",
      "text/plain": [
       "<matplotlib.figure.Figure at 0x10b4e4278>"
      ]
     },
     "metadata": {},
     "output_type": "display_data"
    }
   ],
   "source": [
    "# plot polarity, sean and rachel\n",
    "\n",
    "fig, ax = plt.subplots(figsize = (18,10))\n",
    "ax.set_title('Polarity')\n",
    "\n",
    "ax.plot(sean['Date'], sean['polarity']) \n",
    "ax.plot(rachel['Date'], rachel['polarity'])\n",
    "plt.ylim(-.7,.7)\n",
    "plt.axhline(linewidth=2.5, color='w', alpha = .49)\n",
    "\n",
    "ax.legend(['Sean','Rachel'])"
   ]
  },
  {
   "cell_type": "code",
   "execution_count": 23,
   "metadata": {},
   "outputs": [
    {
     "data": {
      "text/plain": [
       "<matplotlib.legend.Legend at 0x1a206b3438>"
      ]
     },
     "execution_count": 23,
     "metadata": {},
     "output_type": "execute_result"
    },
    {
     "data": {
      "image/png": "[encoded data removed]",
      "text/plain": [
       "<matplotlib.figure.Figure at 0x1a207096d8>"
      ]
     },
     "metadata": {},
     "output_type": "display_data"
    }
   ],
   "source": [
    "# plot subjectivity, sean and rachel\n",
    "fig, ax = plt.subplots (figsize = (18,10))\n",
    "ax.set_title ('Subjectivity')\n",
    "\n",
    "ax.plot (sean['Date'], sean['subjectivity']) \n",
    "ax.plot (rachel['Date'], rachel['subjectivity'])\n",
    "plt.ylim (-.7 , .7)\n",
    "plt.axhline (linewidth=2.5, color='w', alpha = .49)\n",
    "\n",
    "\n",
    "ax.legend(['Sean','Rachel'])"
   ]
  },
  {
   "cell_type": "markdown",
   "metadata": {},
   "source": [
    "#### Some random things"
   ]
  },
  {
   "cell_type": "code",
   "execution_count": 511,
   "metadata": {},
   "outputs": [
    {
     "data": {
      "text/plain": [
       "1711"
      ]
     },
     "execution_count": 511,
     "metadata": {},
     "output_type": "execute_result"
    }
   ],
   "source": [
    "sean_corpus.lower().count('donald trump')"
   ]
  },
  {
   "cell_type": "code",
   "execution_count": 512,
   "metadata": {},
   "outputs": [
    {
     "data": {
      "text/plain": [
       "6195"
      ]
     },
     "execution_count": 512,
     "metadata": {},
     "output_type": "execute_result"
    }
   ],
   "source": [
    "rachel_corpus.lower().count('donald trump')"
   ]
  },
  {
   "cell_type": "code",
   "execution_count": 513,
   "metadata": {},
   "outputs": [
    {
     "data": {
      "text/plain": [
       "2028"
      ]
     },
     "execution_count": 513,
     "metadata": {},
     "output_type": "execute_result"
    }
   ],
   "source": [
    "sean_corpus.lower().count('president trump')"
   ]
  },
  {
   "cell_type": "code",
   "execution_count": 515,
   "metadata": {},
   "outputs": [
    {
     "data": {
      "text/plain": [
       "853"
      ]
     },
     "execution_count": 515,
     "metadata": {},
     "output_type": "execute_result"
    }
   ],
   "source": [
    "rachel_corpus.lower().count('president trump')"
   ]
  },
  {
   "cell_type": "code",
   "execution_count": null,
   "metadata": {},
   "outputs": [],
   "source": [
    "TextBlob(sean_corpus)"
   ]
  },
  {
   "cell_type": "markdown",
   "metadata": {},
   "source": [
    "#### Frequency counts?"
   ]
  },
  {
   "cell_type": "code",
   "execution_count": 29,
   "metadata": {},
   "outputs": [],
   "source": [
    "import nltk"
   ]
  },
  {
   "cell_type": "code",
   "execution_count": 30,
   "metadata": {},
   "outputs": [],
   "source": [
    "fd = nltk.FreqDist()"
   ]
  }
 ],
 "metadata": {
  "kernelspec": {
   "display_name": "Python 3",
   "language": "python",
   "name": "python3"
  },
  "language_info": {
   "codemirror_mode": {
    "name": "ipython",
    "version": 3
   },
   "file_extension": ".py",
   "mimetype": "text/x-python",
   "name": "python",
   "nbconvert_exporter": "python",
   "pygments_lexer": "ipython3",
   "version": "3.6.4"
  },
  "toc": {
   "nav_menu": {},
   "number_sections": true,
   "sideBar": true,
   "skip_h1_title": false,
   "toc_cell": false,
   "toc_position": {
    "height": "818px",
    "left": "0px",
    "right": "1394.67px",
    "top": "34px",
    "width": "206px"
   },
   "toc_section_display": "block",
   "toc_window_display": true
  },
  "varInspector": {
   "cols": {
    "lenName": 16,
    "lenType": 16,
    "lenVar": 40
   },
   "kernels_config": {
    "python": {
     "delete_cmd_postfix": "",
     "delete_cmd_prefix": "del ",
     "library": "var_list.py",
     "varRefreshCmd": "print(var_dic_list())"
    },
    "r": {
     "delete_cmd_postfix": ") ",
     "delete_cmd_prefix": "rm(",
     "library": "var_list.r",
     "varRefreshCmd": "cat(var_dic_list()) "
    }
   },
   "types_to_exclude": [
    "module",
    "function",
    "builtin_function_or_method",
    "instance",
    "_Feature"
   ],
   "window_display": false
  }
 },
 "nbformat": 4,
 "nbformat_minor": 2
}
