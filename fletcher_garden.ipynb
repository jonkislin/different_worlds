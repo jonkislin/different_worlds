{
 "cells": [
  {
   "cell_type": "markdown",
   "metadata": {},
   "source": [
    "## The Fletcher Garden - brainstorming and organizing"
   ]
  },
  {
   "cell_type": "markdown",
   "metadata": {},
   "source": [
    "<a> <img src=\"http://assets.pewresearch.org/wp-content/uploads/sites/5/2014/06/PP-2014-06-12-polarization-1-02.png\" \n",
    "alt=\"IMAGE ALT TEXT HERE\" width=\"600\" border=\"10\" /></a>"
   ]
  },
  {
   "cell_type": "markdown",
   "metadata": {},
   "source": [
    "### 2/18/18 ish\n",
    "\n",
    "General motivation(s):\n",
    "- Partisanship is this year, like every year before it, at an all time high.    \n",
    "\n",
    "- Increasingly, individuals are finding themselves (cognizant of this fact or not) in ideological echo chambers, as more and more people disassociate with the \"ideological other\". (\"Unfriend me on facebook if you support Trump!\")\n",
    "- News outlets of different political affiliations not only provide opposing editorial views, but provide headlines that suggest they are operating in different realities.\n",
    "    - For example: \n",
    "        - CNN: \"\"\n",
    "        - BreitBart: \"\"\n",
    "    - https://businessinsider.com/what-your-preferred-news-outlet-says-about-your-political-ideology-2014-10?IR=T\n",
    "\n",
    "Question:\n",
    "- Can we sketch this enclaving out through an NLP analysis?\n",
    "- In other words, can we capture some sense of the different worlds we live in?\n",
    "- Cultural/linguistic differences - use of different parts of speech\n",
    "- Sketching the righteous terrain?\n",
    "\n",
    "Ideas:\n",
    "- Topic modeling of Rachel Maddow vs Sean Hannity transcripts? (Tucker Carlson? Joe Scarborough? etc)\n",
    "\n",
    "http://www.msnbc.com/transcripts/rachel-maddow-show/2018-02-06\n",
    "    \n",
    "\n",
    "Will have to scrape Sean Hannity grrrr"
   ]
  },
  {
   "cell_type": "markdown",
   "metadata": {},
   "source": [
    "### 2/26/18\n",
    "\n",
    "Idea: split data into \"speakers\" and compare \"speakers\" across transcripts\n",
    "\n",
    "**Clarification:**\n",
    "\n",
    "Guiding question: how do we split the data? \n",
    "- One \"corpus\" per show? (fewest documents, most features when vectorized)\n",
    "- By transcript\n",
    "- By sentence?\n",
    "- By word? (obviously too small)\n",
    "\n",
    "<br>\n",
    "\n",
    " \n",
    "**What about \"dialogue blocks\" - start and end at change of speaker (or video start, commercial break, etc)?**\n",
    "\n",
    "**For a given dialogue block (dataframe structure):** \n",
    "- who was the speaker?\n",
    "- what was the date of the show?\n",
    "- what show was it on?\n",
    "- what network was it on?\n",
    "- raw content of dialogue\n",
    "\n",
    "<br>\n",
    "Make single-string corpora of all transcripts - one for each show. Then, use regex (?) to chunk dialogue blocks - start where \n",
    "<br>\n",
    "\n",
    "**Analysis:**\n",
    "- sentiment analysis of each dialogue block"
   ]
  },
  {
   "cell_type": "code",
   "execution_count": 1,
   "metadata": {},
   "outputs": [],
   "source": [
    "## TO DO: Add vader sentiment\n",
    "# def print_random_transcript(name, start=0, end=-1):\n",
    "#     '''\n",
    "#     Function to debug data exploration with transcript data.\n",
    "#     ----------\n",
    "#     Args:\n",
    "    \n",
    "#     name = name of dataframe (transcript series must be of format name['Content'],\n",
    "#     where name is a pandas dataframe and series values are strings) ***\n",
    "    \n",
    "#     start = where to start slicing the string. Default is 0 \n",
    "    \n",
    "#     end = where to stop slicing the string. Default is -1\n",
    "#     '''\n",
    "#     import numpy as np\n",
    "    \n",
    "    \n",
    "#     rand_num = np.random.randint\n",
    "#     slice_ = rand_num(0,(len(name))+1)\n",
    "#     print(name.Date[slice_],\n",
    "#           f\"\\nLENGTH OF TRANSCRIPT: {len(name.Content[slice_][start : end])}\\n\",\n",
    "#           \"-\"*75, '\\n',\n",
    "#           name.Content[slice_][start : end])"
   ]
  },
  {
   "cell_type": "markdown",
   "metadata": {},
   "source": [
    "### 2/28/18 - Motivation\n",
    "\n",
    "Given how polarized our country is, politically, we are also polarized culturally. Seeing how the other side sees things, not just in terms of political views, but across different topics and people, can be elucidating for the cause of building bridges. \n",
    "\n",
    "We live in different worlds. How can we peer into others' worlds?"
   ]
  },
  {
   "cell_type": "markdown",
   "metadata": {},
   "source": [
    "### 2/28/18 - Idea/Goal\n",
    "\n",
    "Exploration of speakers in transcripts.\n",
    "- Shared speakers?\n",
    "    - What are the sentiments/topics of the speakers on rachel vs sean?\n",
    "- Shared named entity mentions:\n",
    "    - What are the sentiments/topics of dialogue blocks when named entities appear in text?\n",
    "\n",
    "- Matching speaker blocks to when they're mentioned:\n",
    "    - Topics and Sentiment when speaking vs. when mentioned (context is dialogue block)"
   ]
  }
 ],
 "metadata": {
  "kernelspec": {
   "display_name": "Python 3",
   "language": "python",
   "name": "python3"
  },
  "language_info": {
   "codemirror_mode": {
    "name": "ipython",
    "version": 3
   },
   "file_extension": ".py",
   "mimetype": "text/x-python",
   "name": "python",
   "nbconvert_exporter": "python",
   "pygments_lexer": "ipython3",
   "version": "3.6.4"
  }
 },
 "nbformat": 4,
 "nbformat_minor": 2
}
